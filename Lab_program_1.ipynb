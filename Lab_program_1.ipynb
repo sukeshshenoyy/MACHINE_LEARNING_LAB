{
  "nbformat": 4,
  "nbformat_minor": 0,
  "metadata": {
    "colab": {
      "name": "Lab program 1.ipynb",
      "provenance": [],
      "collapsed_sections": [],
      "authorship_tag": "ABX9TyP5upMnPaFvaoD2N8DW6Q8D",
      "include_colab_link": true
    },
    "kernelspec": {
      "name": "python3",
      "display_name": "Python 3"
    }
  },
  "cells": [
    {
      "cell_type": "markdown",
      "metadata": {
        "id": "view-in-github",
        "colab_type": "text"
      },
      "source": [
        "<a href=\"https://colab.research.google.com/github/sukeshshenoyy/MACHINE_LEARNING_LAB/blob/main/Lab_program_1.ipynb\" target=\"_parent\"><img src=\"https://colab.research.google.com/assets/colab-badge.svg\" alt=\"Open In Colab\"/></a>"
      ]
    },
    {
      "cell_type": "code",
      "metadata": {
        "colab": {
          "base_uri": "https://localhost:8080/"
        },
        "id": "kRr4RztQc37L",
        "outputId": "a4b3f81b-3236-4879-bec1-2f2fc35ed28b"
      },
      "source": [
        "from google.colab import drive\r\n",
        "drive.mount('/content/drive')"
      ],
      "execution_count": null,
      "outputs": [
        {
          "output_type": "stream",
          "text": [
            "Mounted at /content/drive\n"
          ],
          "name": "stdout"
        }
      ]
    },
    {
      "cell_type": "code",
      "metadata": {
        "id": "HGy-32-ZdEua"
      },
      "source": [
        "import csv"
      ],
      "execution_count": null,
      "outputs": []
    },
    {
      "cell_type": "code",
      "metadata": {
        "colab": {
          "base_uri": "https://localhost:8080/"
        },
        "id": "F8uMZzg8dQNa",
        "outputId": "05f8145d-a634-48a3-93e0-4288947c17ef"
      },
      "source": [
        "a=[]\r\n",
        "with open('/content/drive/My Drive/ML/lab1.csv') as csfile:\r\n",
        "  reader=csv.reader(csfile)\r\n",
        "  for row in reader:\r\n",
        "    a.append(row)\r\n",
        "    print(row)\r\n",
        "num_attributes=len(a[0])-1 "
      ],
      "execution_count": null,
      "outputs": [
        {
          "output_type": "stream",
          "text": [
            "['sunny', 'warm', 'normal', 'strong', 'warm ', 'same ', 'yes']\n",
            "['sunny', 'warm', 'high', 'strong', 'warm ', 'same ', 'yes']\n",
            "['rainy', 'cold', 'high', 'strong', 'warm ', 'change', 'no']\n",
            "['sunny', 'warm', 'high', 'strong', 'cool', 'change', 'yes']\n"
          ],
          "name": "stdout"
        }
      ]
    },
    {
      "cell_type": "code",
      "metadata": {
        "colab": {
          "base_uri": "https://localhost:8080/"
        },
        "id": "oec_i8Gidbdb",
        "outputId": "b95c9205-4ab4-4359-b855-004b15771e0c"
      },
      "source": [
        "print(\"the most general hypothesis :\",[\"?\"]*num_attributes)"
      ],
      "execution_count": null,
      "outputs": [
        {
          "output_type": "stream",
          "text": [
            "the most general hypothesis : ['?', '?', '?', '?', '?', '?']\n"
          ],
          "name": "stdout"
        }
      ]
    },
    {
      "cell_type": "code",
      "metadata": {
        "colab": {
          "base_uri": "https://localhost:8080/"
        },
        "id": "zh-cglk5dliS",
        "outputId": "522dea0e-2428-48de-f1e7-fcd9ee12b9fa"
      },
      "source": [
        "print(\"the most specific hypothesis :\",[\"0\"]*num_attributes)"
      ],
      "execution_count": null,
      "outputs": [
        {
          "output_type": "stream",
          "text": [
            "the most specific hypothesis : ['0', '0', '0', '0', '0', '0']\n"
          ],
          "name": "stdout"
        }
      ]
    },
    {
      "cell_type": "code",
      "metadata": {
        "id": "sPR2Wi3RdqnL"
      },
      "source": [
        "hypothesis=a[0][:-1]"
      ],
      "execution_count": null,
      "outputs": []
    },
    {
      "cell_type": "code",
      "metadata": {
        "colab": {
          "base_uri": "https://localhost:8080/"
        },
        "id": "s-wOoclZdwzb",
        "outputId": "0e183e1b-ec86-4bba-f964-ca198bd22688"
      },
      "source": [
        "print(\"\\nFind s:Finding a maximally specific hypotheis\")"
      ],
      "execution_count": null,
      "outputs": [
        {
          "output_type": "stream",
          "text": [
            "\n",
            "Find s:Finding a maximally specific hypotheis\n"
          ],
          "name": "stdout"
        }
      ]
    },
    {
      "cell_type": "code",
      "metadata": {
        "colab": {
          "base_uri": "https://localhost:8080/"
        },
        "id": "DtgbEfEXdz5b",
        "outputId": "94252b9b-43a1-4cd4-f3cc-e3c9480e907d"
      },
      "source": [
        "for i in range(len(a)):\r\n",
        "  if a[i][num_attributes]==\"yes\":\r\n",
        "    for j in range(num_attributes):\r\n",
        "      if a[i][j]!=hypothesis[j]:\r\n",
        "        hypothesis[j]='?'\r\n",
        "  print(\"the training example\",i+1,\"the hypotheis is\",hypothesis)"
      ],
      "execution_count": null,
      "outputs": [
        {
          "output_type": "stream",
          "text": [
            "the training example 1 the hypotheis is ['sunny', 'warm', 'normal', 'strong', 'warm ', 'same ']\n",
            "the training example 2 the hypotheis is ['sunny', 'warm', '?', 'strong', 'warm ', 'same ']\n",
            "the training example 3 the hypotheis is ['sunny', 'warm', '?', 'strong', 'warm ', 'same ']\n",
            "the training example 4 the hypotheis is ['sunny', 'warm', '?', 'strong', '?', '?']\n"
          ],
          "name": "stdout"
        }
      ]
    },
    {
      "cell_type": "code",
      "metadata": {
        "colab": {
          "base_uri": "https://localhost:8080/"
        },
        "id": "3dc8lsRKd_az",
        "outputId": "73e29aea-6de6-4084-8bdf-caa77fe42937"
      },
      "source": [
        "print(\"\\n the maximally specific hypothesis is:\")\r\n",
        "print(hypothesis)"
      ],
      "execution_count": null,
      "outputs": [
        {
          "output_type": "stream",
          "text": [
            "\n",
            " the maximally specific hypothesis is:\n",
            "['sunny', 'warm', '?', 'strong', '?', '?']\n"
          ],
          "name": "stdout"
        }
      ]
    }
  ]
}