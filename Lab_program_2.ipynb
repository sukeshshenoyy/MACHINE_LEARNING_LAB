{
  "nbformat": 4,
  "nbformat_minor": 0,
  "metadata": {
    "colab": {
      "name": "Lab program 2.ipynb",
      "provenance": [],
      "collapsed_sections": [],
      "authorship_tag": "ABX9TyO9F6n3e/REx4KhM0V6dfip",
      "include_colab_link": true
    },
    "kernelspec": {
      "name": "python3",
      "display_name": "Python 3"
    }
  },
  "cells": [
    {
      "cell_type": "markdown",
      "metadata": {
        "id": "view-in-github",
        "colab_type": "text"
      },
      "source": [
        "<a href=\"https://colab.research.google.com/github/sukeshshenoyy/MACHINE_LEARNING_LAB/blob/main/Lab_program_2.ipynb\" target=\"_parent\"><img src=\"https://colab.research.google.com/assets/colab-badge.svg\" alt=\"Open In Colab\"/></a>"
      ]
    },
    {
      "cell_type": "code",
      "metadata": {
        "colab": {
          "base_uri": "https://localhost:8080/"
        },
        "id": "3g8BjDUiebaf",
        "outputId": "2cd390da-32c2-4ff0-ba0e-4db4a8113b56"
      },
      "source": [
        "from google.colab import drive\r\n",
        "drive.mount('/content/drive')"
      ],
      "execution_count": null,
      "outputs": [
        {
          "output_type": "stream",
          "text": [
            "Mounted at /content/drive\n"
          ],
          "name": "stdout"
        }
      ]
    },
    {
      "cell_type": "code",
      "metadata": {
        "id": "kRnmKdpNfM9h"
      },
      "source": [
        "import numpy as np \r\n",
        "import pandas as pd\r\n",
        "data=pd.DataFrame(data=pd.read_csv('/content/drive/My Drive/ML/lab2_1.csv'))\r\n",
        "concepts=np.array(data.iloc[:,0:-1])\r\n",
        "target=np.array(data.iloc[:,-1])"
      ],
      "execution_count": null,
      "outputs": []
    },
    {
      "cell_type": "code",
      "metadata": {
        "id": "Z9BFv9pSfUcL"
      },
      "source": [
        "def learn(concepts,target):\r\n",
        "  specific_h=concepts[0].copy()\r\n",
        "  print(specific_h)\r\n",
        "  general_h=[[\"?\" for i in range(len(specific_h))] for i in range(len(specific_h))]\r\n",
        "  print(general_h)\r\n",
        "  for i,h in enumerate(concepts):\r\n",
        "    if target[i]==\"Y\":\r\n",
        "      for x in range(len(specific_h)):\r\n",
        "        if h[x]!=specific_h[x]:\r\n",
        "\r\n",
        "         specific_h[x]='?'\r\n",
        "         general_h[x][x]='?'\r\n",
        "    if target[i]==\"N\":\r\n",
        "      for x in range(len(specific_h)):\r\n",
        "        if h[x]!=specific_h[x]:\r\n",
        "          general_h[x][x]=specific_h[x]\r\n",
        "        else:\r\n",
        "         general_h[x][x]='?'\r\n",
        "    print(\"steps of candidate elimination algorithm\",i+1)    \r\n",
        "    print(specific_h)\r\n",
        "    print(general_h)\r\n",
        "  indices=[i for i,val in enumerate(general_h) if val==['?','?','?','?','?','?']]\r\n",
        "  for i in indices:\r\n",
        "    general_h.remove(['?','?','?','?','?','?']) \r\n",
        "  return specific_h,general_h"
      ],
      "execution_count": null,
      "outputs": []
    },
    {
      "cell_type": "code",
      "metadata": {
        "colab": {
          "base_uri": "https://localhost:8080/"
        },
        "id": "nz43NF8-feeq",
        "outputId": "4a264547-e754-4c3c-df6d-92da82cd55f9"
      },
      "source": [
        "s_final,g_final=learn(concepts,target)\r\n",
        "print(\"\\n\\n\\n final specific_h:\",s_final,sep=\"\\n\")\r\n",
        "print(\"\\n\\n\\n final general_h:\",g_final,sep=\"\\n\")"
      ],
      "execution_count": null,
      "outputs": [
        {
          "output_type": "stream",
          "text": [
            "['sunny' 'warm' 'normal' 'strong' 'warm ' 'same ']\n",
            "[['?', '?', '?', '?', '?', '?'], ['?', '?', '?', '?', '?', '?'], ['?', '?', '?', '?', '?', '?'], ['?', '?', '?', '?', '?', '?'], ['?', '?', '?', '?', '?', '?'], ['?', '?', '?', '?', '?', '?']]\n",
            "steps of candidate elimination algorithm 1\n",
            "['sunny' 'warm' 'normal' 'strong' 'warm ' 'same ']\n",
            "[['?', '?', '?', '?', '?', '?'], ['?', '?', '?', '?', '?', '?'], ['?', '?', '?', '?', '?', '?'], ['?', '?', '?', '?', '?', '?'], ['?', '?', '?', '?', '?', '?'], ['?', '?', '?', '?', '?', '?']]\n",
            "steps of candidate elimination algorithm 2\n",
            "['sunny' 'warm' '?' 'strong' 'warm ' 'same ']\n",
            "[['?', '?', '?', '?', '?', '?'], ['?', '?', '?', '?', '?', '?'], ['?', '?', '?', '?', '?', '?'], ['?', '?', '?', '?', '?', '?'], ['?', '?', '?', '?', '?', '?'], ['?', '?', '?', '?', '?', '?']]\n",
            "steps of candidate elimination algorithm 3\n",
            "['sunny' 'warm' '?' 'strong' 'warm ' 'same ']\n",
            "[['sunny', '?', '?', '?', '?', '?'], ['?', 'warm', '?', '?', '?', '?'], ['?', '?', '?', '?', '?', '?'], ['?', '?', '?', '?', '?', '?'], ['?', '?', '?', '?', '?', '?'], ['?', '?', '?', '?', '?', 'same ']]\n",
            "steps of candidate elimination algorithm 4\n",
            "['sunny' 'warm' '?' 'strong' '?' '?']\n",
            "[['sunny', '?', '?', '?', '?', '?'], ['?', 'warm', '?', '?', '?', '?'], ['?', '?', '?', '?', '?', '?'], ['?', '?', '?', '?', '?', '?'], ['?', '?', '?', '?', '?', '?'], ['?', '?', '?', '?', '?', '?']]\n",
            "\n",
            "\n",
            "\n",
            " final specific_h:\n",
            "['sunny' 'warm' '?' 'strong' '?' '?']\n",
            "\n",
            "\n",
            "\n",
            " final general_h:\n",
            "[['sunny', '?', '?', '?', '?', '?'], ['?', 'warm', '?', '?', '?', '?']]\n"
          ],
          "name": "stdout"
        }
      ]
    }
  ]
}