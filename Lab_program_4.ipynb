{
  "nbformat": 4,
  "nbformat_minor": 0,
  "metadata": {
    "colab": {
      "name": "Lab program 4.ipynb",
      "provenance": [],
      "collapsed_sections": [],
      "authorship_tag": "ABX9TyOu3tMOzm2bnl4UTKOcLia+",
      "include_colab_link": true
    },
    "kernelspec": {
      "name": "python3",
      "display_name": "Python 3"
    }
  },
  "cells": [
    {
      "cell_type": "markdown",
      "metadata": {
        "id": "view-in-github",
        "colab_type": "text"
      },
      "source": [
        "<a href=\"https://colab.research.google.com/github/sukeshshenoyy/MACHINE_LEARNING_LAB/blob/main/Lab_program_4.ipynb\" target=\"_parent\"><img src=\"https://colab.research.google.com/assets/colab-badge.svg\" alt=\"Open In Colab\"/></a>"
      ]
    },
    {
      "cell_type": "code",
      "metadata": {
        "colab": {
          "base_uri": "https://localhost:8080/"
        },
        "id": "2CIk7LZyWbhE",
        "outputId": "e683428a-4f15-4bca-988d-49c87507921f"
      },
      "source": [
        "from google.colab import drive\r\n",
        "drive.mount('/content/drive')"
      ],
      "execution_count": null,
      "outputs": [
        {
          "output_type": "stream",
          "text": [
            "Mounted at /content/drive\n"
          ],
          "name": "stdout"
        }
      ]
    },
    {
      "cell_type": "code",
      "metadata": {
        "id": "qWw3jM3qXXpL"
      },
      "source": [
        "import numpy as np"
      ],
      "execution_count": null,
      "outputs": []
    },
    {
      "cell_type": "code",
      "metadata": {
        "id": "kTpbhm93YIIk"
      },
      "source": [
        "x= np.array(([2,9],[1,5],[3,6]), dtype=float) "
      ],
      "execution_count": null,
      "outputs": []
    },
    {
      "cell_type": "code",
      "metadata": {
        "id": "9WrJKpZBYPGu"
      },
      "source": [
        "y= np.array(([92],[86],[89]), dtype=float) "
      ],
      "execution_count": null,
      "outputs": []
    },
    {
      "cell_type": "code",
      "metadata": {
        "id": "UmRVUaCTYV1z"
      },
      "source": [
        "x= x/np.amax(x,axis=0)"
      ],
      "execution_count": null,
      "outputs": []
    },
    {
      "cell_type": "code",
      "metadata": {
        "id": "HF5-2XcRYg10"
      },
      "source": [
        "y= y/100"
      ],
      "execution_count": null,
      "outputs": []
    },
    {
      "cell_type": "code",
      "metadata": {
        "id": "RNBSKLD7Ylub"
      },
      "source": [
        "def sigmoid(x):\r\n",
        "  return 1/(1+np.exp(-x))"
      ],
      "execution_count": null,
      "outputs": []
    },
    {
      "cell_type": "code",
      "metadata": {
        "id": "du_ZSK2MYqc6"
      },
      "source": [
        "def derivatives_sigmoid(x):\r\n",
        "  return x*(1-x)"
      ],
      "execution_count": null,
      "outputs": []
    },
    {
      "cell_type": "code",
      "metadata": {
        "id": "FhHwpEjfYyWC"
      },
      "source": [
        "epoch= 20"
      ],
      "execution_count": null,
      "outputs": []
    },
    {
      "cell_type": "code",
      "metadata": {
        "id": "ad934_TIY3Yk"
      },
      "source": [
        "learning_rate=0.1"
      ],
      "execution_count": null,
      "outputs": []
    },
    {
      "cell_type": "code",
      "metadata": {
        "id": "6hj4UGhbY737"
      },
      "source": [
        "inputlayer_neurons=2"
      ],
      "execution_count": null,
      "outputs": []
    },
    {
      "cell_type": "code",
      "metadata": {
        "id": "Xt0I0PDtZDRT"
      },
      "source": [
        "hiddenlayer_neurons=3"
      ],
      "execution_count": null,
      "outputs": []
    },
    {
      "cell_type": "code",
      "metadata": {
        "id": "H7ImdorkZHOL"
      },
      "source": [
        "outputlayer_neurons=1"
      ],
      "execution_count": null,
      "outputs": []
    },
    {
      "cell_type": "code",
      "metadata": {
        "id": "her-jIUWZQFz"
      },
      "source": [
        "wh = np.random.uniform(size=(inputlayer_neurons,hiddenlayer_neurons))"
      ],
      "execution_count": null,
      "outputs": []
    },
    {
      "cell_type": "code",
      "metadata": {
        "id": "0hja2KhBZRbO"
      },
      "source": [
        "bh = np.random.uniform(size=(1,hiddenlayer_neurons))"
      ],
      "execution_count": null,
      "outputs": []
    },
    {
      "cell_type": "code",
      "metadata": {
        "id": "-gSDoWQ8ZYQb"
      },
      "source": [
        "wo = np.random.uniform(size=(hiddenlayer_neurons,outputlayer_neurons))"
      ],
      "execution_count": null,
      "outputs": []
    },
    {
      "cell_type": "code",
      "metadata": {
        "id": "uVNbBZIDZfhj"
      },
      "source": [
        "bo = np.random.uniform(size=(1,outputlayer_neurons))"
      ],
      "execution_count": null,
      "outputs": []
    },
    {
      "cell_type": "code",
      "metadata": {
        "colab": {
          "base_uri": "https://localhost:8080/"
        },
        "id": "LSnThwV7ZkZc",
        "outputId": "635658b0-c67f-4c39-a83b-0515f595be73"
      },
      "source": [
        "for i in range(epoch):\r\n",
        "  net_h = np.dot(x,wh)+bh\r\n",
        "  sigma_h= sigmoid(net_h)\r\n",
        "  net_o = np.dot(sigma_h,wo)+bo \r\n",
        "  output=sigmoid(net_o)\r\n",
        "  deltaK= (y-output)*derivatives_sigmoid(output)\r\n",
        "  deltaH= deltaK.dot(wo.T)*derivatives_sigmoid(sigma_h)\r\n",
        "  wo=wo+sigma_h.T.dot(deltaK)*learning_rate \r\n",
        "  wh=wh+x.T.dot(deltaH)*learning_rate\r\n",
        "  error=sum(deltaK)**2/len(deltaK)\r\n",
        "  print('Epoch->{0},lrate->{1},error->{2}'.format(i,learning_rate,error))"
      ],
      "execution_count": null,
      "outputs": [
        {
          "output_type": "stream",
          "text": [
            "Epoch->0,lrate->0.1,error->[0.00059125]\n",
            "Epoch->1,lrate->0.1,error->[0.00056749]\n",
            "Epoch->2,lrate->0.1,error->[0.00054494]\n",
            "Epoch->3,lrate->0.1,error->[0.00052353]\n",
            "Epoch->4,lrate->0.1,error->[0.00050318]\n",
            "Epoch->5,lrate->0.1,error->[0.00048383]\n",
            "Epoch->6,lrate->0.1,error->[0.00046543]\n",
            "Epoch->7,lrate->0.1,error->[0.00044791]\n",
            "Epoch->8,lrate->0.1,error->[0.00043123]\n",
            "Epoch->9,lrate->0.1,error->[0.00041533]\n",
            "Epoch->10,lrate->0.1,error->[0.00040017]\n",
            "Epoch->11,lrate->0.1,error->[0.00038571]\n",
            "Epoch->12,lrate->0.1,error->[0.00037191]\n",
            "Epoch->13,lrate->0.1,error->[0.00035874]\n",
            "Epoch->14,lrate->0.1,error->[0.00034615]\n",
            "Epoch->15,lrate->0.1,error->[0.00033412]\n",
            "Epoch->16,lrate->0.1,error->[0.00032261]\n",
            "Epoch->17,lrate->0.1,error->[0.00031161]\n",
            "Epoch->18,lrate->0.1,error->[0.00030107]\n",
            "Epoch->19,lrate->0.1,error->[0.00029099]\n"
          ],
          "name": "stdout"
        }
      ]
    },
    {
      "cell_type": "code",
      "metadata": {
        "colab": {
          "base_uri": "https://localhost:8080/"
        },
        "id": "EnRLNCBhZ9z8",
        "outputId": "8385cf05-fd7f-4ee3-b48d-802aaf86e028"
      },
      "source": [
        "print(\"input: \\n\"+str(x))"
      ],
      "execution_count": null,
      "outputs": [
        {
          "output_type": "stream",
          "text": [
            "input: \n",
            "[[0.66666667 1.        ]\n",
            " [0.33333333 0.55555556]\n",
            " [1.         0.66666667]]\n"
          ],
          "name": "stdout"
        }
      ]
    },
    {
      "cell_type": "code",
      "metadata": {
        "colab": {
          "base_uri": "https://localhost:8080/"
        },
        "id": "VC5CkwSQaQg9",
        "outputId": "e44f5d36-b378-44f0-d73b-06083ef030f6"
      },
      "source": [
        "print(\"actual output: \\n\"+str(y))"
      ],
      "execution_count": null,
      "outputs": [
        {
          "output_type": "stream",
          "text": [
            "actual output: \n",
            "[[0.92]\n",
            " [0.86]\n",
            " [0.89]]\n"
          ],
          "name": "stdout"
        }
      ]
    },
    {
      "cell_type": "code",
      "metadata": {
        "colab": {
          "base_uri": "https://localhost:8080/"
        },
        "id": "hUEIeRtpaX5L",
        "outputId": "c731b7d2-7182-41bd-9e32-64eed61c1fd8"
      },
      "source": [
        "print(\"predicted output :\\n\",output)"
      ],
      "execution_count": null,
      "outputs": [
        {
          "output_type": "stream",
          "text": [
            "predicted output :\n",
            " [[0.79324978]\n",
            " [0.77286498]\n",
            " [0.78942228]]\n"
          ],
          "name": "stdout"
        }
      ]
    }
  ]
}