{
  "nbformat": 4,
  "nbformat_minor": 0,
  "metadata": {
    "colab": {
      "name": "Lab program 6.ipynb",
      "provenance": [],
      "collapsed_sections": [],
      "authorship_tag": "ABX9TyONFl2pnrEeZBYQEzZard4j",
      "include_colab_link": true
    },
    "kernelspec": {
      "name": "python3",
      "display_name": "Python 3"
    }
  },
  "cells": [
    {
      "cell_type": "markdown",
      "metadata": {
        "id": "view-in-github",
        "colab_type": "text"
      },
      "source": [
        "<a href=\"https://colab.research.google.com/github/sukeshshenoyy/MACHINE_LEARNING_LAB/blob/main/Lab_program_6.ipynb\" target=\"_parent\"><img src=\"https://colab.research.google.com/assets/colab-badge.svg\" alt=\"Open In Colab\"/></a>"
      ]
    },
    {
      "cell_type": "code",
      "metadata": {
        "colab": {
          "base_uri": "https://localhost:8080/"
        },
        "id": "F6Msbvgqga4j",
        "outputId": "cfb17978-e01c-43a8-ac02-21809b646cdb"
      },
      "source": [
        "from google.colab import drive\r\n",
        "drive.mount('/content/drive')"
      ],
      "execution_count": null,
      "outputs": [
        {
          "output_type": "stream",
          "text": [
            "Mounted at /content/drive\n"
          ],
          "name": "stdout"
        }
      ]
    },
    {
      "cell_type": "code",
      "metadata": {
        "id": "SjHweQB4hf21"
      },
      "source": [
        "import pandas as pd"
      ],
      "execution_count": null,
      "outputs": []
    },
    {
      "cell_type": "code",
      "metadata": {
        "id": "aEkbejOkhiQq"
      },
      "source": [
        "msg=pd.read_csv('/content/drive/My Drive/ML/lab6_2.csv',names=['message','label'])\r\n",
        "msg['labelnum']=msg.label.map({'pos':1,'neg':0})\r\n",
        "X=msg.message\r\n",
        "Y=msg.labelnum\r\n",
        "X5,Y5=X[0:5],msg.label[0:5]"
      ],
      "execution_count": null,
      "outputs": []
    },
    {
      "cell_type": "code",
      "metadata": {
        "id": "Z2uykQqQhoH6"
      },
      "source": [
        "from sklearn.model_selection import train_test_split\r\n",
        "xtrain,xtest,ytrain,ytest=train_test_split(X,Y)"
      ],
      "execution_count": null,
      "outputs": []
    },
    {
      "cell_type": "code",
      "metadata": {
        "id": "jdnYS9Ydhy1k"
      },
      "source": [
        "from sklearn.feature_extraction.text import CountVectorizer\r\n",
        "count_vect=CountVectorizer()\r\n",
        "xtrain_dtm=count_vect.fit_transform(xtrain)\r\n",
        "xtest_dtm=count_vect.transform(xtest)\r\n",
        "df=pd.DataFrame(xtrain_dtm.toarray(),columns=count_vect.get_feature_names())"
      ],
      "execution_count": null,
      "outputs": []
    },
    {
      "cell_type": "code",
      "metadata": {
        "id": "vbRqeFPVh2BE"
      },
      "source": [
        "from sklearn.naive_bayes import MultinomialNB\r\n",
        "clf=MultinomialNB().fit(xtrain_dtm,ytrain)\r\n",
        "predicted=clf.predict(xtest_dtm)"
      ],
      "execution_count": null,
      "outputs": []
    },
    {
      "cell_type": "code",
      "metadata": {
        "colab": {
          "base_uri": "https://localhost:8080/"
        },
        "id": "R1RBRKnah8Qh",
        "outputId": "a2a42492-f98b-443b-fe56-df8703069743"
      },
      "source": [
        "from sklearn import metrics\r\n",
        "print('Accuracy metrics')\r\n",
        "print('Accuracy of the classifier is')\r\n",
        "print(metrics.accuracy_score(ytest,predicted))\r\n",
        "print('Recall:',metrics.recall_score(ytest,predicted))\r\n",
        "print('Precision',metrics.precision_score(ytest,predicted))\r\n",
        "print('Confused matrix')\r\n",
        "print(metrics.confusion_matrix(ytest,predicted))"
      ],
      "execution_count": null,
      "outputs": [
        {
          "output_type": "stream",
          "text": [
            "Accuracy metrics\n",
            "Accuracy of the classifier is\n",
            "0.6\n",
            "Recall: 0.5\n",
            "Precision 0.5\n",
            "Confused matrix\n",
            "[[2 1]\n",
            " [1 1]]\n"
          ],
          "name": "stdout"
        }
      ]
    }
  ]
}