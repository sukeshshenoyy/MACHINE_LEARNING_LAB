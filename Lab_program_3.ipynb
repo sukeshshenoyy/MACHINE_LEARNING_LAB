{
  "nbformat": 4,
  "nbformat_minor": 0,
  "metadata": {
    "colab": {
      "name": "Lab program 3.ipynb",
      "provenance": [],
      "collapsed_sections": [],
      "authorship_tag": "ABX9TyPY6cIxcJKwi6xVy3qq7vp9",
      "include_colab_link": true
    },
    "kernelspec": {
      "name": "python3",
      "display_name": "Python 3"
    }
  },
  "cells": [
    {
      "cell_type": "markdown",
      "metadata": {
        "id": "view-in-github",
        "colab_type": "text"
      },
      "source": [
        "<a href=\"https://colab.research.google.com/github/sukeshshenoyy/MACHINE_LEARNING_LAB/blob/main/Lab_program_3.ipynb\" target=\"_parent\"><img src=\"https://colab.research.google.com/assets/colab-badge.svg\" alt=\"Open In Colab\"/></a>"
      ]
    },
    {
      "cell_type": "code",
      "metadata": {
        "colab": {
          "base_uri": "https://localhost:8080/"
        },
        "id": "6WgsaphXncRp",
        "outputId": "300b8a29-d885-48b0-e591-73d3577b13c9"
      },
      "source": [
        "from google.colab import drive\r\n",
        "drive.mount('/content/drive')"
      ],
      "execution_count": null,
      "outputs": [
        {
          "output_type": "stream",
          "text": [
            "Mounted at /content/drive\n"
          ],
          "name": "stdout"
        }
      ]
    },
    {
      "cell_type": "code",
      "metadata": {
        "id": "P6X-uK_snu18"
      },
      "source": [
        "import pandas as pd\r\n",
        "from pandas import DataFrame\r\n",
        "df_tennis=pd.DataFrame(data=pd.read_csv('/content/drive/My Drive/ML/lab3_2.csv'))"
      ],
      "execution_count": null,
      "outputs": []
    },
    {
      "cell_type": "code",
      "metadata": {
        "id": "_cA3coHCnyUE"
      },
      "source": [
        "attribute_names=list(df_tennis.columns)\r\n",
        "attribute_names.remove('play')"
      ],
      "execution_count": null,
      "outputs": []
    },
    {
      "cell_type": "code",
      "metadata": {
        "id": "MF3weTs3n4Wp"
      },
      "source": [
        "def entropy_of_list(a_list):\r\n",
        "  from collections import Counter\r\n",
        "  cnt = Counter(x for x in a_list)\r\n",
        "  num_instances = len(a_list)*1.0\r\n",
        "  probs = [x/num_instances for x in cnt.values()]\r\n",
        "  return entropy(probs)"
      ],
      "execution_count": null,
      "outputs": []
    },
    {
      "cell_type": "code",
      "metadata": {
        "id": "LD51wrUTn79p"
      },
      "source": [
        "def entropy(probs):\r\n",
        "  import math\r\n",
        "  return sum([-prob*math.log(prob,2) for prob in probs])"
      ],
      "execution_count": null,
      "outputs": []
    },
    {
      "cell_type": "code",
      "metadata": {
        "id": "5A2NPeG9oBtR"
      },
      "source": [
        "total_entropy=entropy_of_list(df_tennis['play'])"
      ],
      "execution_count": null,
      "outputs": []
    },
    {
      "cell_type": "code",
      "metadata": {
        "id": "j6yAKVb3oGJW"
      },
      "source": [
        "def information_gain(df,split_attribute_name,target_attribute_name,trace=0):\r\n",
        "  df_split = df.groupby(split_attribute_name)\r\n",
        "  nobs = len(df.index)*1.0\r\n",
        "  df_agg_ent = df_split.agg({target_attribute_name:[entropy_of_list,lambda x:len(x)/nobs]})\r\n",
        "  df_agg_ent.columns = ['Entropy','propobservations']\r\n",
        "  new_entropy = sum(df_agg_ent['Entropy']*df_agg_ent['propobservations'])\r\n",
        "  old_entropy = entropy_of_list(df[target_attribute_name])\r\n",
        "  return old_entropy-new_entropy"
      ],
      "execution_count": null,
      "outputs": []
    },
    {
      "cell_type": "code",
      "metadata": {
        "id": "6UyDgBgWoIB7"
      },
      "source": [
        "def id3(df,target_attribute_name,attribute_names,default_class = None):\r\n",
        "  from collections import Counter\r\n",
        "  cut = Counter(x for x in df[target_attribute_name])\r\n",
        "  if len(cut) == 1:\r\n",
        "    return next(iter(cut))\r\n",
        "  elif df.empty or (not attribute_names):\r\n",
        "    return default_class\r\n",
        "  else:\r\n",
        "    default_class = max(cut.keys())\r\n",
        "    gainz = [information_gain(df,attr,target_attribute_name) for attr in attribute_names]\r\n",
        "    index_of_max = gainz.index(max(gainz))\r\n",
        "    best_attr = attribute_names[index_of_max]\r\n",
        "    tree = {best_attr:{}}\r\n",
        "    remaining_attribute_names = [i for i in attribute_names if i!=best_attr]\r\n",
        "    for attr_val,data_subset in df.groupby(best_attr):\r\n",
        "      subtree = id3(data_subset,target_attribute_name,remaining_attribute_names,default_class)\r\n",
        "      tree[best_attr][attr_val] = subtree\r\n",
        "  return tree"
      ],
      "execution_count": null,
      "outputs": []
    },
    {
      "cell_type": "code",
      "metadata": {
        "colab": {
          "base_uri": "https://localhost:8080/"
        },
        "id": "RLN3nnczovIS",
        "outputId": "a6c72dfe-84f4-41d7-86f0-7d2b3d2de851"
      },
      "source": [
        "from pprint import pprint\r\n",
        "tree = id3(df_tennis,'play',attribute_names)\r\n",
        "print(\"\\n\\n The Resultant Decission Tree is :\\n\")\r\n",
        "pprint(tree)"
      ],
      "execution_count": null,
      "outputs": [
        {
          "output_type": "stream",
          "text": [
            "\n",
            "\n",
            " The Resultant Decission Tree is :\n",
            "\n",
            "{'outlook': {'overcast': 'yes',\n",
            "             'rainy': {'windy': {'Strong': 'no', 'Weak': 'yes'}},\n",
            "             'sunny': {'humidity': {'high': 'no', 'normal': 'yes'}}}}\n"
          ],
          "name": "stdout"
        }
      ]
    }
  ]
}